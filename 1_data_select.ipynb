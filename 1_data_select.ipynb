{
 "cells": [
  {
   "cell_type": "code",
   "execution_count": 2,
   "metadata": {},
   "outputs": [],
   "source": [
    "import os\n",
    "from glob import glob\n",
    "import yaml\n",
    "import shutil\n",
    "from IPython.display import Image\n",
    "import yaml\n",
    "from sklearn.model_selection import train_test_split"
   ]
  },
  {
   "cell_type": "code",
   "execution_count": 3,
   "metadata": {},
   "outputs": [
    {
     "name": "stdout",
     "output_type": "stream",
     "text": [
      "train 전체 이미지 : 80000 장\n"
     ]
    }
   ],
   "source": [
    "img_list = glob('data/Training/OCR_train_img/*.jpg')\n",
    "print(f'train 전체 이미지 : {len(img_list)} 장') # 8만장"
   ]
  },
  {
   "cell_type": "code",
   "execution_count": 4,
   "metadata": {},
   "outputs": [
    {
     "name": "stdout",
     "output_type": "stream",
     "text": [
      "train-test-split : 60000 장 / 20000 장\n"
     ]
    }
   ],
   "source": [
    "train_img_list, val_img_list = train_test_split(img_list, test_size=0.25, random_state=129) # 6:2\n",
    "print(f'train-test-split : {len(train_img_list)} 장 / {len(val_img_list)} 장') # 6만 / 2만 장"
   ]
  },
  {
   "cell_type": "code",
   "execution_count": 5,
   "metadata": {},
   "outputs": [],
   "source": [
    "with open('data/train.txt', 'w') as f:\n",
    "    f.write('\\n'.join(train_img_list) + '\\n')\n",
    "\n",
    "with open('data/val.txt', 'w') as f:\n",
    "    f.write('\\n'.join(val_img_list) + '\\n')\n",
    "\n",
    "data = {}\n",
    "data['train'] = 'data/train.txt'\n",
    "data['val'] = 'data/val.txt'\n",
    "data['names'] = ['car_number'] # 번호판 만 탐지 할 계획\n",
    "data['nc'] = len(data['names'])\n",
    "\n",
    "with open('data/data.yaml', 'w') as f:\n",
    "    yaml.dump(data, f)"
   ]
  },
  {
   "cell_type": "code",
   "execution_count": 8,
   "metadata": {},
   "outputs": [
    {
     "data": {
      "text/plain": [
       "'data/Training/OCR_train_img\\\\01가0785.jpg'"
      ]
     },
     "execution_count": 8,
     "metadata": {},
     "output_type": "execute_result"
    }
   ],
   "source": [
    "# 8만장 학습시키는거 너무 부담스러워서 5천장만 뽑아내기로 함\n",
    "img_list2 = img_list[:5000] # 5천장만 Train 사용\n",
    "img_list2[0]"
   ]
  },
  {
   "cell_type": "code",
   "execution_count": 14,
   "metadata": {},
   "outputs": [],
   "source": [
    "if not os.path.isdir('data2'):\n",
    "    os.mkdir('data2')\n",
    "\n",
    "if not os.path.isdir('data2/train'):\n",
    "    os.mkdir('data2/train')\n",
    "\n",
    "if not os.path.isdir('data2/val'):\n",
    "    os.mkdir('data2/val')"
   ]
  },
  {
   "cell_type": "code",
   "execution_count": 19,
   "metadata": {},
   "outputs": [],
   "source": [
    "new_path = 'data2/train/' # 이미지 따로 저장할 디렉토리\n",
    "\n",
    "for img_file in img_list2:\n",
    "    new_name = new_path + img_file.lstrip(r'data/Training/OCR_train_img\\\\')\n",
    "    shutil.copy(img_file, new_name)"
   ]
  },
  {
   "cell_type": "code",
   "execution_count": 31,
   "metadata": {},
   "outputs": [],
   "source": [
    "# 라벨링이 이미 json형태라서 임의로 txt 파일로 만들어야함.\n",
    "# 라벨은 '0 0.5 0.5 0.8 0.8' 로 줄 예정\n",
    "\n",
    "new_img_list = glob('data2/train/*.jpg')\n",
    "\n",
    "for img_file in new_img_list:\n",
    "    new_name = img_file.rstrip('jpg') + 'txt'\n",
    "    with open(new_name, 'w') as f:\n",
    "        f.write('0 0.5 0.5 0.8 0.8')\n",
    "    \n",
    "# data2/train/ 폴더 안에 이미지 5천장, 라벨 5천개 생김.\n",
    "# 이제 Colab 으로 옮겨서 Train 시키기."
   ]
  },
  {
   "cell_type": "code",
   "execution_count": null,
   "metadata": {},
   "outputs": [],
   "source": []
  }
 ],
 "metadata": {
  "kernelspec": {
   "display_name": "Python 3.9.7 ('base')",
   "language": "python",
   "name": "python3"
  },
  "language_info": {
   "codemirror_mode": {
    "name": "ipython",
    "version": 3
   },
   "file_extension": ".py",
   "mimetype": "text/x-python",
   "name": "python",
   "nbconvert_exporter": "python",
   "pygments_lexer": "ipython3",
   "version": "3.9.7"
  },
  "orig_nbformat": 4,
  "vscode": {
   "interpreter": {
    "hash": "263930470851f494f0ed2879c35b57985588df20f9e529b86e97dd5eb9ddc466"
   }
  }
 },
 "nbformat": 4,
 "nbformat_minor": 2
}
