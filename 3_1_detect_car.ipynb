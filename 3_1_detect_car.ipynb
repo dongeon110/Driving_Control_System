{
 "cells": [
  {
   "cell_type": "code",
   "execution_count": 1,
   "metadata": {},
   "outputs": [
    {
     "name": "stderr",
     "output_type": "stream",
     "text": [
      "c:\\Users\\USER\\AppData\\Local\\Programs\\Python\\Python39\\lib\\site-packages\\tqdm\\auto.py:22: TqdmWarning: IProgress not found. Please update jupyter and ipywidgets. See https://ipywidgets.readthedocs.io/en/stable/user_install.html\n",
      "  from .autonotebook import tqdm as notebook_tqdm\n"
     ]
    }
   ],
   "source": [
    "import torch"
   ]
  },
  {
   "cell_type": "code",
   "execution_count": 2,
   "metadata": {},
   "outputs": [
    {
     "name": "stderr",
     "output_type": "stream",
     "text": [
      "Using cache found in C:\\Users\\USER/.cache\\torch\\hub\\ultralytics_yolov5_master\n",
      "YOLOv5  2022-6-1 Python-3.9.4 torch-1.11.0+cpu CPU\n",
      "\n",
      "Downloading https://github.com/ultralytics/yolov5/releases/download/v6.1/yolov5s.pt to yolov5s.pt...\n",
      "100%|██████████| 14.1M/14.1M [00:01<00:00, 9.26MB/s]\n",
      "\n",
      "Fusing layers... \n",
      "YOLOv5s summary: 213 layers, 7225885 parameters, 0 gradients\n",
      "Adding AutoShape... \n"
     ]
    }
   ],
   "source": [
    "# Model\n",
    "model = torch.hub.load('ultralytics/yolov5', 'yolov5s') # pretrained"
   ]
  },
  {
   "cell_type": "code",
   "execution_count": 10,
   "metadata": {},
   "outputs": [],
   "source": [
    "# Images\n",
    "img = 'http://www.iautocar.co.kr/news/photo/201804/5341_31504_119.jpg'\n",
    "\n",
    "# Inference\n",
    "results = model(img)\n",
    "\n",
    "results.show()\n",
    "\n",
    "# detect car 확인 완료"
   ]
  },
  {
   "cell_type": "code",
   "execution_count": 19,
   "metadata": {},
   "outputs": [
    {
     "name": "stderr",
     "output_type": "stream",
     "text": [
      "\u001b[34m\u001b[1mdetect: \u001b[0mweights=['yolov5s.pt'], source=test_img, data=..\\yolov5\\data\\coco128.yaml, imgsz=[416, 416], conf_thres=0.5, iou_thres=0.45, max_det=1000, device=, view_img=True, save_txt=True, save_conf=False, save_crop=True, nosave=False, classes=None, agnostic_nms=False, augment=False, visualize=False, update=False, project=..\\yolov5\\runs\\detect, name=exp, exist_ok=False, line_thickness=3, hide_labels=False, hide_conf=False, half=False, dnn=False\n",
      "YOLOv5  v6.1-263-g0537e8d Python-3.9.4 torch-1.11.0+cpu CPU\n",
      "\n",
      "Fusing layers... \n",
      "YOLOv5s summary: 213 layers, 7225885 parameters, 0 gradients\n",
      "image 1/4 D:\\My_Git_Repositories\\Driving_Control_System\\test_img\\01거0598.jpg: 224x416 1 oven, Done. (0.108s)\n",
      "image 2/4 D:\\My_Git_Repositories\\Driving_Control_System\\test_img\\01누9353.jpg: 192x416 Done. (0.085s)\n",
      "image 3/4 D:\\My_Git_Repositories\\Driving_Control_System\\test_img\\01다1168.jpg: 256x416 Done. (0.100s)\n",
      "image 4/4 D:\\My_Git_Repositories\\Driving_Control_System\\test_img\\test_car.jpg: 288x416 1 person, 1 car, Done. (0.112s)\n",
      "Speed: 0.5ms pre-process, 101.1ms inference, 0.5ms NMS per image at shape (1, 3, 416, 416)\n",
      "Results saved to \u001b[1m..\\yolov5\\runs\\detect\\exp17\u001b[0m\n",
      "2 labels saved to ..\\yolov5\\runs\\detect\\exp17\\labels\n"
     ]
    }
   ],
   "source": [
    "!python ../yolov5/detect.py --weights yolov5s.pt --img 416 --conf 0.5 --source test_img --save-txt --save-crop --view-img\n",
    "# labels class num 2 = car / 0 = person"
   ]
  },
  {
   "cell_type": "code",
   "execution_count": 18,
   "metadata": {},
   "outputs": [
    {
     "name": "stderr",
     "output_type": "stream",
     "text": [
      "\u001b[34m\u001b[1mdetect: \u001b[0mweights=['detect_car_num/weights/best.pt'], source=test_img, data=..\\yolov5\\data\\coco128.yaml, imgsz=[416, 416], conf_thres=0.5, iou_thres=0.45, max_det=1000, device=, view_img=True, save_txt=True, save_conf=False, save_crop=True, nosave=False, classes=None, agnostic_nms=False, augment=False, visualize=False, update=False, project=..\\yolov5\\runs\\detect, name=exp, exist_ok=False, line_thickness=3, hide_labels=False, hide_conf=False, half=False, dnn=False\n",
      "YOLOv5  v6.1-263-g0537e8d Python-3.9.4 torch-1.11.0+cpu CPU\n",
      "\n",
      "Fusing layers... \n",
      "YOLOv5s summary: 213 layers, 7012822 parameters, 0 gradients\n",
      "image 1/4 D:\\My_Git_Repositories\\Driving_Control_System\\test_img\\01거0598.jpg: 224x416 1 car_number, Done. (0.104s)\n",
      "image 2/4 D:\\My_Git_Repositories\\Driving_Control_System\\test_img\\01누9353.jpg: 192x416 1 car_number, Done. (0.082s)\n",
      "image 3/4 D:\\My_Git_Repositories\\Driving_Control_System\\test_img\\01다1168.jpg: 256x416 1 car_number, Done. (0.099s)\n",
      "image 4/4 D:\\My_Git_Repositories\\Driving_Control_System\\test_img\\test_car.jpg: 288x416 1 car_number, Done. (0.109s)\n",
      "Speed: 0.5ms pre-process, 98.5ms inference, 0.8ms NMS per image at shape (1, 3, 416, 416)\n",
      "Results saved to \u001b[1m..\\yolov5\\runs\\detect\\exp16\u001b[0m\n",
      "4 labels saved to ..\\yolov5\\runs\\detect\\exp16\\labels\n"
     ]
    }
   ],
   "source": [
    "# car_number detect / 다시 모델링 할 필요 있음\n",
    "!python ../yolov5/detect.py --weights detect_car_num/weights/best.pt --img 416 --conf 0.5 --source test_img --save-txt --save-crop --view-img"
   ]
  },
  {
   "cell_type": "code",
   "execution_count": null,
   "metadata": {},
   "outputs": [],
   "source": []
  }
 ],
 "metadata": {
  "kernelspec": {
   "display_name": "Python 3.9.4 64-bit",
   "language": "python",
   "name": "python3"
  },
  "language_info": {
   "codemirror_mode": {
    "name": "ipython",
    "version": 3
   },
   "file_extension": ".py",
   "mimetype": "text/x-python",
   "name": "python",
   "nbconvert_exporter": "python",
   "pygments_lexer": "ipython3",
   "version": "3.9.4"
  },
  "orig_nbformat": 4,
  "vscode": {
   "interpreter": {
    "hash": "1d5c1156327dacead463cc502c55ebae8ce9c8c01979cf154173ff808e75bf55"
   }
  }
 },
 "nbformat": 4,
 "nbformat_minor": 2
}
